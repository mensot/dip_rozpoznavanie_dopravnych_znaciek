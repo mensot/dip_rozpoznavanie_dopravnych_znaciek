{
 "cells": [
  {
   "cell_type": "code",
   "execution_count": null,
   "metadata": {},
   "outputs": [],
   "source": [
    "import numpy as np\n",
    "import pandas as pd\n",
    "import os\n",
    "import cv2\n",
    "import matplotlib.pyplot as plt\n",
    "import tensorflow as tf\n",
    "\n",
    "from PIL import Image\n",
    "from sklearn.model_selection import train_test_split\n",
    "from sklearn.metrics import accuracy_score\n",
    "from sklearn.metrics import classification_report\n",
    "from tensorflow import keras\n",
    "from tensorflow.keras.models import Sequential\n",
    "from tensorflow.keras.optimizers import Adam\n",
    "from tensorflow.keras.layers import Conv2D, MaxPool2D, Dense, Flatten, Dropout, BatchNormalization\n",
    "from tensorflow.keras.preprocessing.image import ImageDataGenerator\n",
    "from tensorflow.keras.utils import to_categorical\n",
    "from tensorflow.keras.models import load_model\n",
    "from keras.utils.vis_utils import plot_model"
   ]
  },
  {
   "cell_type": "code",
   "execution_count": null,
   "metadata": {},
   "outputs": [],
   "source": [
    "np.random.seed(1)\n",
    "#link na stiahnutie datasetu https://drive.google.com/file/d/1qorrVV5R_BtcxYXYALHZnaKZCCdU1ZLS/view?usp=sharing\n",
    "\n",
    "ts_triedy = 'znacky_triedy.txt'\n",
    "df = pd.read_csv ('german_ts/Test.csv')\n",
    "\n",
    "dataset_priecinok = 'german_ts'\n",
    "trenovacia_cesta = 'german_ts/Train'\n",
    "\n",
    "vyska = 32\n",
    "sirka = 32\n",
    "kanaly = 3"
   ]
  },
  {
   "cell_type": "code",
   "execution_count": null,
   "metadata": {},
   "outputs": [],
   "source": [
    "znacky = {}\n",
    "with open(ts_triedy) as f:\n",
    "    for index, riadok in enumerate(f):\n",
    "        znacky[index] = riadok.strip()"
   ]
  },
  {
   "cell_type": "code",
   "execution_count": null,
   "metadata": {},
   "outputs": [],
   "source": [
    "pocet_tried = len(znacky)\n",
    "pocet_dat = []\n",
    "znacka = []\n",
    "\n",
    "for priecinok in range(pocet_tried):\n",
    "    trenovacie_subory = os.listdir(trenovacia_cesta + '/' + str(priecinok))\n",
    "    pocet_dat.append(len(trenovacie_subory))\n",
    "    znacka.append(znacky[int(priecinok)])\n",
    "    \n",
    "testovacia_pocet_dat = df['ClassId'].value_counts(dropna=False)\n",
    "testovacia_pocet_dat = df.groupby('ClassId').size()\n",
    "x_axis = np.arange(len(znacky))"
   ]
  },
  {
   "cell_type": "code",
   "execution_count": null,
   "metadata": {},
   "outputs": [],
   "source": [
    "plt.figure(figsize = (10,12))\n",
    "plt.barh(x_axis, pocet_dat, height = 0.8, label = 'Train')\n",
    "plt.barh(x_axis, testovacia_pocet_dat, height = 0.8/3, label = 'Test')\n",
    "plt.yticks(x_axis, znacka)\n",
    "for index, value in enumerate(pocet_dat):\n",
    "    plt.text(value, index, str(value), verticalalignment = 'center')\n",
    "    \n",
    "for index, value in enumerate(testovacia_pocet_dat):\n",
    "    plt.text(value, index, str(value), fontsize = 10, verticalalignment = 'center', color='white')\n",
    "plt.legend()\n",
    "plt.show()"
   ]
  },
  {
   "cell_type": "code",
   "execution_count": null,
   "metadata": {},
   "outputs": [],
   "source": [
    "obrazky = []\n",
    "obrazky_nazvy = []\n",
    "\n",
    "for i in range(pocet_tried):\n",
    "    cesta = dataset_priecinok + '/Train/' + str(i)\n",
    "    priecinok = os.listdir(cesta)\n",
    "\n",
    "    for j in priecinok:\n",
    "        try:\n",
    "            obrazok = cv2.imread(cesta + '/' + j)\n",
    "            pillow_format = Image.fromarray(obrazok, 'RGB')\n",
    "            obrazok_32x32 = pillow_format.resize((vyska, sirka))\n",
    "            obrazky.append(np.array(obrazok_32x32))\n",
    "            obrazky_nazvy.append(i)\n",
    "        except:\n",
    "            print(\"Chyba: \" + j)\n",
    "\n",
    "obrazky = np.array(obrazky)\n",
    "obrazky_nazvy = np.array(obrazky_nazvy)"
   ]
  },
  {
   "cell_type": "code",
   "execution_count": null,
   "metadata": {},
   "outputs": [],
   "source": [
    "X_train, X_val, y_train, y_val = train_test_split(obrazky, obrazky_nazvy, test_size=0.2, random_state=1)\n",
    "\n",
    "X_train = X_train/255\n",
    "X_val = X_val/255"
   ]
  },
  {
   "cell_type": "code",
   "execution_count": null,
   "metadata": {},
   "outputs": [],
   "source": [
    "y_train = to_categorical(y_train, pocet_tried)\n",
    "y_val = to_categorical(y_val, pocet_tried)"
   ]
  },
  {
   "cell_type": "code",
   "execution_count": null,
   "metadata": {},
   "outputs": [],
   "source": [
    "model = Sequential([    \n",
    "    Conv2D(filters=16, kernel_size=(3,3), activation='relu', input_shape=(vyska,sirka,kanaly)),\n",
    "    Conv2D(filters=32, kernel_size=(3,3), activation='relu'),\n",
    "    MaxPool2D(pool_size=(2, 2)),\n",
    "    BatchNormalization(axis=-1),\n",
    "    \n",
    "    Conv2D(filters=64, kernel_size=(3,3), activation='relu'),\n",
    "    Conv2D(filters=128, kernel_size=(3,3), activation='relu'),\n",
    "    MaxPool2D(pool_size=(2, 2)),\n",
    "    BatchNormalization(axis=-1),\n",
    "    \n",
    "    Conv2D(filters=128, kernel_size=(3,3), activation='relu'),\n",
    "    MaxPool2D(pool_size=(2, 2)),\n",
    "    BatchNormalization(),\n",
    "    \n",
    "    Flatten(),\n",
    "    Dense(512, activation='relu'),\n",
    "    BatchNormalization(),\n",
    "    Dropout(rate=0.5),\n",
    "    \n",
    "    Dense(pocet_tried, activation='softmax')\n",
    "])"
   ]
  },
  {
   "cell_type": "code",
   "execution_count": null,
   "metadata": {},
   "outputs": [],
   "source": [
    "model.summary()"
   ]
  },
  {
   "cell_type": "code",
   "execution_count": null,
   "metadata": {},
   "outputs": [],
   "source": [
    "rychlost_ucenia = 0.001\n",
    "epochy = 30\n",
    "\n",
    "optimalizator = Adam(lr=rychlost_ucenia, decay=rychlost_ucenia / (epochy * 0.5))\n",
    "model.compile(loss='categorical_crossentropy', optimizer=optimalizator, metrics=['accuracy'])"
   ]
  },
  {
   "cell_type": "code",
   "execution_count": null,
   "metadata": {},
   "outputs": [],
   "source": [
    "augmentacia = ImageDataGenerator(\n",
    "    rotation_range=10,\n",
    "    zoom_range=0.15,\n",
    "    width_shift_range=0.1,\n",
    "    height_shift_range=0.1,\n",
    "    shear_range=0.15,\n",
    "    horizontal_flip=False,\n",
    "    vertical_flip=False,\n",
    "    fill_mode=\"nearest\")\n",
    "\n",
    "history = model.fit(augmentacia.flow(X_train, y_train, batch_size=32), epochs=epochy, validation_data=(X_val, y_val))"
   ]
  },
  {
   "cell_type": "code",
   "execution_count": null,
   "metadata": {},
   "outputs": [],
   "source": [
    "plt.plot(history.history['loss'])\n",
    "plt.plot(history.history['val_loss'])\n",
    "plt.legend(['Trénovacia', 'Validačná'])\n",
    "plt.title('Chybová funkcia')\n",
    "plt.xlabel('Epoch')\n",
    "plt.ylabel('Chyba')"
   ]
  },
  {
   "cell_type": "code",
   "execution_count": null,
   "metadata": {},
   "outputs": [],
   "source": [
    "plt.plot(history.history['accuracy'])\n",
    "plt.plot(history.history['val_accuracy'])\n",
    "plt.legend(['Trénovacia', 'Validačná'])\n",
    "plt.title('Presnosť')\n",
    "plt.xlabel('Epoch')\n",
    "plt.ylabel('Presnosť')"
   ]
  },
  {
   "cell_type": "code",
   "execution_count": null,
   "metadata": {},
   "outputs": [],
   "source": [
    "model.save(\"dip_cnn_32.h5\")\n",
    "nas_model = load_model('dip_cnn_32.h5')"
   ]
  },
  {
   "cell_type": "code",
   "execution_count": null,
   "metadata": {},
   "outputs": [],
   "source": [
    "test_csv = pd.read_csv(dataset_priecinok + '/Test.csv')\n",
    "\n",
    "popisy = test_csv[\"ClassId\"].values\n",
    "obrazky = test_csv[\"Path\"].values\n",
    "test_obrazky =[]\n",
    "\n",
    "for i in obrazky:\n",
    "    try:\n",
    "        obrazok = cv2.imread(dataset_priecinok + '/' +i)\n",
    "        pillow_format = Image.fromarray(obrazok, 'RGB')\n",
    "        obrazok_32x32 = pillow_format.resize((vyska, sirka))\n",
    "        test_obrazky.append(np.array(obrazok_32x32))\n",
    "    except:\n",
    "        print(\"Error in \" + i)\n",
    "        \n",
    "X_test = np.array(test_obrazky)\n",
    "X_test = X_test/255\n",
    "\n",
    "pred = nas_model.predict_classes(X_test)\n",
    "print('Testovacia sada, presnosť: ',accuracy_score(popisy, pred)*100)"
   ]
  },
  {
   "cell_type": "code",
   "execution_count": null,
   "metadata": {},
   "outputs": [],
   "source": [
    "from sklearn.metrics import confusion_matrix\n",
    "matrix = confusion_matrix(popisy, pred)\n",
    "import seaborn as sns\n",
    "df_matrix = pd.DataFrame(matrix, index = znacky,  columns = znacky)\n",
    "plt.figure(figsize = (20,20))\n",
    "sns.heatmap(df_matrix, annot=True)"
   ]
  },
  {
   "cell_type": "code",
   "execution_count": null,
   "metadata": {},
   "outputs": [],
   "source": [
    "print(classification_report(popisy, pred))"
   ]
  }
 ],
 "metadata": {
  "kernelspec": {
   "display_name": "Python 3",
   "language": "python",
   "name": "python3"
  },
  "language_info": {
   "codemirror_mode": {
    "name": "ipython",
    "version": 3
   },
   "file_extension": ".py",
   "mimetype": "text/x-python",
   "name": "python",
   "nbconvert_exporter": "python",
   "pygments_lexer": "ipython3",
   "version": "3.8.5"
  }
 },
 "nbformat": 4,
 "nbformat_minor": 4
}
